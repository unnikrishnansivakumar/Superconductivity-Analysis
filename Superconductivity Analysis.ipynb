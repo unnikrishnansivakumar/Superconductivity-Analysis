{
 "cells": [
  {
   "cell_type": "markdown",
   "id": "1af20119",
   "metadata": {},
   "source": [
    "### 1. Loading Data"
   ]
  },
  {
   "cell_type": "code",
   "execution_count": 1,
   "id": "cdbe4419",
   "metadata": {},
   "outputs": [],
   "source": [
    "supercon_data <- read.csv('./dataset/train.csv')"
   ]
  },
  {
   "cell_type": "code",
   "execution_count": 2,
   "id": "bc0ed855",
   "metadata": {},
   "outputs": [
    {
     "data": {
      "text/html": [
       "<table>\n",
       "<thead><tr><th scope=col>number_of_elements</th><th scope=col>mean_atomic_mass</th><th scope=col>wtd_mean_atomic_mass</th><th scope=col>gmean_atomic_mass</th><th scope=col>wtd_gmean_atomic_mass</th><th scope=col>entropy_atomic_mass</th><th scope=col>wtd_entropy_atomic_mass</th><th scope=col>range_atomic_mass</th><th scope=col>wtd_range_atomic_mass</th><th scope=col>std_atomic_mass</th><th scope=col>...</th><th scope=col>wtd_mean_Valence</th><th scope=col>gmean_Valence</th><th scope=col>wtd_gmean_Valence</th><th scope=col>entropy_Valence</th><th scope=col>wtd_entropy_Valence</th><th scope=col>range_Valence</th><th scope=col>wtd_range_Valence</th><th scope=col>std_Valence</th><th scope=col>wtd_std_Valence</th><th scope=col>critical_temp</th></tr></thead>\n",
       "<tbody>\n",
       "\t<tr><td>4        </td><td>88.94447 </td><td>57.86269 </td><td>66.36159 </td><td>36.11661 </td><td>1.181795 </td><td>1.0623955</td><td>122.9061 </td><td>31.79492 </td><td>51.96883 </td><td>...      </td><td>2.257143 </td><td>2.213364 </td><td>2.219783 </td><td>1.368922 </td><td>1.066221 </td><td>1        </td><td>1.085714 </td><td>0.4330127</td><td>0.4370588</td><td>29       </td></tr>\n",
       "\t<tr><td>5        </td><td>92.72921 </td><td>58.51842 </td><td>73.13279 </td><td>36.39660 </td><td>1.449309 </td><td>1.0577551</td><td>122.9061 </td><td>36.16194 </td><td>47.09463 </td><td>...      </td><td>2.257143 </td><td>1.888175 </td><td>2.210679 </td><td>1.557113 </td><td>1.047221 </td><td>2        </td><td>1.128571 </td><td>0.6324555</td><td>0.4686063</td><td>26       </td></tr>\n",
       "\t<tr><td>4        </td><td>88.94447 </td><td>57.88524 </td><td>66.36159 </td><td>36.12251 </td><td>1.181795 </td><td>0.9759805</td><td>122.9061 </td><td>35.74110 </td><td>51.96883 </td><td>...      </td><td>2.271429 </td><td>2.213364 </td><td>2.232679 </td><td>1.368922 </td><td>1.029175 </td><td>1        </td><td>1.114286 </td><td>0.4330127</td><td>0.4446966</td><td>19       </td></tr>\n",
       "\t<tr><td>4        </td><td>88.94447 </td><td>57.87397 </td><td>66.36159 </td><td>36.11956 </td><td>1.181795 </td><td>1.0222909</td><td>122.9061 </td><td>33.76801 </td><td>51.96883 </td><td>...      </td><td>2.264286 </td><td>2.213364 </td><td>2.226222 </td><td>1.368922 </td><td>1.048834 </td><td>1        </td><td>1.100000 </td><td>0.4330127</td><td>0.4409521</td><td>22       </td></tr>\n",
       "\t<tr><td>4        </td><td>88.94447 </td><td>57.84014 </td><td>66.36159 </td><td>36.11072 </td><td>1.181795 </td><td>1.1292237</td><td>122.9061 </td><td>27.84874 </td><td>51.96883 </td><td>...      </td><td>2.242857 </td><td>2.213364 </td><td>2.206963 </td><td>1.368922 </td><td>1.096052 </td><td>1        </td><td>1.057143 </td><td>0.4330127</td><td>0.4288095</td><td>23       </td></tr>\n",
       "</tbody>\n",
       "</table>\n"
      ],
      "text/latex": [
       "\\begin{tabular}{r|llllllllllllllllllllllllllllllllllllllllllllllllllllllllllllllllllllllllllllllllll}\n",
       " number\\_of\\_elements & mean\\_atomic\\_mass & wtd\\_mean\\_atomic\\_mass & gmean\\_atomic\\_mass & wtd\\_gmean\\_atomic\\_mass & entropy\\_atomic\\_mass & wtd\\_entropy\\_atomic\\_mass & range\\_atomic\\_mass & wtd\\_range\\_atomic\\_mass & std\\_atomic\\_mass & ... & wtd\\_mean\\_Valence & gmean\\_Valence & wtd\\_gmean\\_Valence & entropy\\_Valence & wtd\\_entropy\\_Valence & range\\_Valence & wtd\\_range\\_Valence & std\\_Valence & wtd\\_std\\_Valence & critical\\_temp\\\\\n",
       "\\hline\n",
       "\t 4         & 88.94447  & 57.86269  & 66.36159  & 36.11661  & 1.181795  & 1.0623955 & 122.9061  & 31.79492  & 51.96883  & ...       & 2.257143  & 2.213364  & 2.219783  & 1.368922  & 1.066221  & 1         & 1.085714  & 0.4330127 & 0.4370588 & 29       \\\\\n",
       "\t 5         & 92.72921  & 58.51842  & 73.13279  & 36.39660  & 1.449309  & 1.0577551 & 122.9061  & 36.16194  & 47.09463  & ...       & 2.257143  & 1.888175  & 2.210679  & 1.557113  & 1.047221  & 2         & 1.128571  & 0.6324555 & 0.4686063 & 26       \\\\\n",
       "\t 4         & 88.94447  & 57.88524  & 66.36159  & 36.12251  & 1.181795  & 0.9759805 & 122.9061  & 35.74110  & 51.96883  & ...       & 2.271429  & 2.213364  & 2.232679  & 1.368922  & 1.029175  & 1         & 1.114286  & 0.4330127 & 0.4446966 & 19       \\\\\n",
       "\t 4         & 88.94447  & 57.87397  & 66.36159  & 36.11956  & 1.181795  & 1.0222909 & 122.9061  & 33.76801  & 51.96883  & ...       & 2.264286  & 2.213364  & 2.226222  & 1.368922  & 1.048834  & 1         & 1.100000  & 0.4330127 & 0.4409521 & 22       \\\\\n",
       "\t 4         & 88.94447  & 57.84014  & 66.36159  & 36.11072  & 1.181795  & 1.1292237 & 122.9061  & 27.84874  & 51.96883  & ...       & 2.242857  & 2.213364  & 2.206963  & 1.368922  & 1.096052  & 1         & 1.057143  & 0.4330127 & 0.4288095 & 23       \\\\\n",
       "\\end{tabular}\n"
      ],
      "text/markdown": [
       "\n",
       "| number_of_elements | mean_atomic_mass | wtd_mean_atomic_mass | gmean_atomic_mass | wtd_gmean_atomic_mass | entropy_atomic_mass | wtd_entropy_atomic_mass | range_atomic_mass | wtd_range_atomic_mass | std_atomic_mass | ... | wtd_mean_Valence | gmean_Valence | wtd_gmean_Valence | entropy_Valence | wtd_entropy_Valence | range_Valence | wtd_range_Valence | std_Valence | wtd_std_Valence | critical_temp |\n",
       "|---|---|---|---|---|---|---|---|---|---|---|---|---|---|---|---|---|---|---|---|---|\n",
       "| 4         | 88.94447  | 57.86269  | 66.36159  | 36.11661  | 1.181795  | 1.0623955 | 122.9061  | 31.79492  | 51.96883  | ...       | 2.257143  | 2.213364  | 2.219783  | 1.368922  | 1.066221  | 1         | 1.085714  | 0.4330127 | 0.4370588 | 29        |\n",
       "| 5         | 92.72921  | 58.51842  | 73.13279  | 36.39660  | 1.449309  | 1.0577551 | 122.9061  | 36.16194  | 47.09463  | ...       | 2.257143  | 1.888175  | 2.210679  | 1.557113  | 1.047221  | 2         | 1.128571  | 0.6324555 | 0.4686063 | 26        |\n",
       "| 4         | 88.94447  | 57.88524  | 66.36159  | 36.12251  | 1.181795  | 0.9759805 | 122.9061  | 35.74110  | 51.96883  | ...       | 2.271429  | 2.213364  | 2.232679  | 1.368922  | 1.029175  | 1         | 1.114286  | 0.4330127 | 0.4446966 | 19        |\n",
       "| 4         | 88.94447  | 57.87397  | 66.36159  | 36.11956  | 1.181795  | 1.0222909 | 122.9061  | 33.76801  | 51.96883  | ...       | 2.264286  | 2.213364  | 2.226222  | 1.368922  | 1.048834  | 1         | 1.100000  | 0.4330127 | 0.4409521 | 22        |\n",
       "| 4         | 88.94447  | 57.84014  | 66.36159  | 36.11072  | 1.181795  | 1.1292237 | 122.9061  | 27.84874  | 51.96883  | ...       | 2.242857  | 2.213364  | 2.206963  | 1.368922  | 1.096052  | 1         | 1.057143  | 0.4330127 | 0.4288095 | 23        |\n",
       "\n"
      ],
      "text/plain": [
       "  number_of_elements mean_atomic_mass wtd_mean_atomic_mass gmean_atomic_mass\n",
       "1 4                  88.94447         57.86269             66.36159         \n",
       "2 5                  92.72921         58.51842             73.13279         \n",
       "3 4                  88.94447         57.88524             66.36159         \n",
       "4 4                  88.94447         57.87397             66.36159         \n",
       "5 4                  88.94447         57.84014             66.36159         \n",
       "  wtd_gmean_atomic_mass entropy_atomic_mass wtd_entropy_atomic_mass\n",
       "1 36.11661              1.181795            1.0623955              \n",
       "2 36.39660              1.449309            1.0577551              \n",
       "3 36.12251              1.181795            0.9759805              \n",
       "4 36.11956              1.181795            1.0222909              \n",
       "5 36.11072              1.181795            1.1292237              \n",
       "  range_atomic_mass wtd_range_atomic_mass std_atomic_mass ... wtd_mean_Valence\n",
       "1 122.9061          31.79492              51.96883        ... 2.257143        \n",
       "2 122.9061          36.16194              47.09463        ... 2.257143        \n",
       "3 122.9061          35.74110              51.96883        ... 2.271429        \n",
       "4 122.9061          33.76801              51.96883        ... 2.264286        \n",
       "5 122.9061          27.84874              51.96883        ... 2.242857        \n",
       "  gmean_Valence wtd_gmean_Valence entropy_Valence wtd_entropy_Valence\n",
       "1 2.213364      2.219783          1.368922        1.066221           \n",
       "2 1.888175      2.210679          1.557113        1.047221           \n",
       "3 2.213364      2.232679          1.368922        1.029175           \n",
       "4 2.213364      2.226222          1.368922        1.048834           \n",
       "5 2.213364      2.206963          1.368922        1.096052           \n",
       "  range_Valence wtd_range_Valence std_Valence wtd_std_Valence critical_temp\n",
       "1 1             1.085714          0.4330127   0.4370588       29           \n",
       "2 2             1.128571          0.6324555   0.4686063       26           \n",
       "3 1             1.114286          0.4330127   0.4446966       19           \n",
       "4 1             1.100000          0.4330127   0.4409521       22           \n",
       "5 1             1.057143          0.4330127   0.4288095       23           "
      ]
     },
     "metadata": {},
     "output_type": "display_data"
    }
   ],
   "source": [
    "head(supercon_data,5)"
   ]
  },
  {
   "cell_type": "markdown",
   "id": "3f08d80d",
   "metadata": {},
   "source": [
    "### 2. Correlation Analysis"
   ]
  },
  {
   "cell_type": "code",
   "execution_count": null,
   "id": "eb06a58f",
   "metadata": {},
   "outputs": [],
   "source": []
  }
 ],
 "metadata": {
  "kernelspec": {
   "display_name": "R",
   "language": "R",
   "name": "ir"
  },
  "language_info": {
   "codemirror_mode": "r",
   "file_extension": ".r",
   "mimetype": "text/x-r-source",
   "name": "R",
   "pygments_lexer": "r",
   "version": "3.6.1"
  }
 },
 "nbformat": 4,
 "nbformat_minor": 5
}
